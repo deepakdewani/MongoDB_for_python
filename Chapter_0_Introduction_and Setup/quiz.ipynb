{
 "cells": [
  {
   "cell_type": "markdown",
   "metadata": {},
   "source": [
    "## MFlix Application Architecture\n",
    "During this course, which of the following files in mflix will you have to edit?\n",
    "\n",
    "factory.py\n",
    "db.py\n",
    "api/movies.py\n",
    "api/user.py\n",
    "\n",
    "\n",
    "## Answer:\n",
    "db.py"
   ]
  }
 ],
 "metadata": {
  "language_info": {
   "name": "python"
  },
  "orig_nbformat": 4
 },
 "nbformat": 4,
 "nbformat_minor": 2
}
