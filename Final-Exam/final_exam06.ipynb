{
 "cells": [
  {
   "cell_type": "markdown",
   "metadata": {},
   "source": [
    "# Final: Question 6\n",
    "\n",
    "Suppose a client application is sending writes to a replica set with three nodes, but the primary node stops responding:\n",
    "\n",
    "Source: https://camo.githubusercontent.com/38f9ada452ad03cfd14793f6619ade7a5136bddb43ba468c8f8e4bf1b6bf7f42/68747470733a2f2f73332e616d617a6f6e6177732e636f6d2f6564752d7374617469632e6d6f6e676f64622e636f6d2f6c6573736f6e732f4d3232302f6e6f7465626f6f6b5f6173736574732f7265706c6963615f7365745f7072696d6172795f646f776e2e706e67\n",
    "\n",
    "Assume that none of the connection settings have been changed, and that the client is only sending insert statements with write concern w: 1 to the server.\n",
    "\n",
    "After 30 seconds, the client still cannot connect to a new primary. Which of the following exceptions will be raised by Pymongo?\n",
    "\n",
    "DocumentTooLarge\n",
    "DuplicateKeyError\n",
    "ServerSelectionTimeoutError\n",
    "ConfigurationError\n",
    "InvalidURI\n",
    "\n",
    "\n",
    "## Answer:\n",
    "ServerSelectionTimeoutError"
   ]
  }
 ],
 "metadata": {
  "language_info": {
   "name": "python"
  },
  "orig_nbformat": 4
 },
 "nbformat": 4,
 "nbformat_minor": 2
}
