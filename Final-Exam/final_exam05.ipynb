{
 "cells": [
  {
   "cell_type": "markdown",
   "metadata": {},
   "source": [
    "#Final: Question 5\n",
    "\n",
    "Given the following bulk write statement, to a collection called employees:\n",
    "\n",
    "requests = \n",
    "[\n",
    "  \n",
    "  InsertOne({ '_id': 11, 'name': 'Edgar Martinez', 'salary': \"8.5M\" }),    # Insert #1\n",
    "  \n",
    "  InsertOne({ '_id': 3, 'name': 'Alex Rodriguez', 'salary': \"18.3M\" }),    # Insert #2\n",
    "  \n",
    "  InsertOne({ '_id': 24, 'name': 'Ken Griffey Jr.', 'salary': \"12.4M\" }),  # Insert #3\n",
    "  \n",
    "  InsertOne({ '_id': 11, 'name': 'David Bell', 'salary': \"2.5M\" }),        # Insert #4\n",
    "  \n",
    "  InsertOne({ '_id': 19, 'name': 'Jay Buhner', 'salary': \"5.1M\" })         # Insert #5\n",
    "\n",
    "]\n",
    "\n",
    "response = employees.bulk_write(requests)\n",
    "Assume the employees collection is empty, and that there were no network errors in the execution of the bulk write.\n",
    "\n",
    "Which of the insert operations in requests will succeed?\n",
    "\n",
    "Insert #1\n",
    "\n",
    "Insert #2\n",
    "\n",
    "Insert #3\n",
    "\n",
    "Insert #4\n",
    "\n",
    "Insert #5\n",
    "\n",
    "\n",
    "\n",
    "## Answer:\n",
    "\n",
    "Insert #1\n",
    "\n",
    "Insert #2\n",
    "\n",
    "Insert #3\n",
    "\n"
   ]
  }
 ],
 "metadata": {
  "language_info": {
   "name": "python"
  },
  "orig_nbformat": 4
 },
 "nbformat": 4,
 "nbformat_minor": 2
}
