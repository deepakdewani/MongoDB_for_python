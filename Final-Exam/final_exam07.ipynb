{
 "cells": [
  {
   "cell_type": "markdown",
   "metadata": {},
   "source": [
    "# Final: Question 7\n",
    "\n",
    "Assume a collection called people_heights with documents that look like this:\n",
    "\n",
    "{\n",
    "  \"name\": \"Ada\",\n",
    "  \"height\": 1.7\n",
    "}\n",
    "\n",
    "Which of the following queries will find only the 4th- and 5th-tallest people in the people_heights collection?\n",
    "\n",
    "db.people_heights.find().sort(\"height\", -1).skip(5).limit(3)\n",
    "db.people_heights.find().sort(\"height\", -1).limit(5).skip(3)\n",
    "db.people_heights.find().sort(\"height\", -1).skip(3).limit(2)\n",
    "db.people_heights.find().sort(\"height\", -1).skip(3).limit(5)\n",
    "\n",
    "\n",
    "## Answer:\n",
    "\n",
    "db.people_heights.find().sort(\"height\", -1).skip(3).limit(2)"
   ]
  }
 ],
 "metadata": {
  "language_info": {
   "name": "python"
  },
  "orig_nbformat": 4
 },
 "nbformat": 4,
 "nbformat_minor": 2
}
