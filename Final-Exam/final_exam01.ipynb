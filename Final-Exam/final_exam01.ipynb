{
 "cells": [
  {
   "cell_type": "markdown",
   "metadata": {},
   "source": [
    "# Final: Question 1\n",
    "\n",
    "Assume a collection called elections that holds data about all United States Presidential Elections since 1789. All the documents in the elections collection look like this:\n",
    "\n",
    "\n",
    "{\n",
    "  \"year\" : 1828,\n",
    "  \"winner\" : \"Andrew Jackson\",\n",
    "  \"winner_running_mate\" : \"John C. Calhoun\",\n",
    "  \"winner_party\" : \"Democratic\",\n",
    "  \"winner_electoral_votes\" : 178,\n",
    "  \"total_electoral_votes\" : 261\n",
    "}\n",
    "\n",
    "\n",
    "total_electoral_votes represents the total number of electoral votes that year, and winner_electoral_votes represents the number of electoral votes received by the winning candidates.\n",
    "\n",
    "Which of the following queries will retrieve all the Republican winners with at least 160 electoral votes?\n",
    "\n",
    "\n",
    "db.elections.find( { \"winner_party\": \"Republican\",\n",
    "                    \"winner_electoral_votes\": { \"$lt\": 160 } })\n",
    "\n",
    "\n",
    "db.elections.find( { \"winner_party\": \"Republican\",\n",
    "                    \"total_electoral_votes\": { \"$lte\": 160 } } )\n",
    "\n",
    "\n",
    "db.elections.find( { \"winner_party\": \"Republican\",\n",
    "                    \"winner_electoral_votes\": { \"$gte\": 160 } } )\n",
    "\n",
    "\n",
    "\n",
    "db.elections.find( { \"total_electoral_votes\": { \"$gte\": 160 },\n",
    "                    \"winner_party\": \"Republican\" } )\n",
    "- db.elections.find( { \"winner_electoral_votes\": { \"$gte\": 160 } } )\n",
    "\n",
    "\n",
    "## Answer:\n",
    "\n",
    "db.elections.find( { \"winner_party\": \"Republican\",\n",
    "                    \"winner_electoral_votes\": { \"$gte\": 160 } } )\n"
   ]
  }
 ],
 "metadata": {
  "language_info": {
   "name": "python"
  },
  "orig_nbformat": 4
 },
 "nbformat": 4,
 "nbformat_minor": 2
}
