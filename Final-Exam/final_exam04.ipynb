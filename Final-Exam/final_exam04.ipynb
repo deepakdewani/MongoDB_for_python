{
 "cells": [
  {
   "cell_type": "markdown",
   "metadata": {},
   "source": [
    "# Final: Question 4\n",
    "\n",
    "Suppose a client application is sending writes to a replica set with 3 nodes:\n",
    "\n",
    "Source: (https://camo.githubusercontent.com/38fb35051b7f5ee4636af756aaa883526503d244833028034bb1a61d8095027d/68747470733a2f2f73332e616d617a6f6e6177732e636f6d2f6564752d7374617469632e6d6f6e676f64622e636f6d2f6c6573736f6e732f4d3232302f6e6f7465626f6f6b5f6173736574732f7265706c6963615f7365745f7072696d6172795f7365636f6e646172795f686967686c6967687465645f61636b2e706e67)\n",
    "\n",
    "\n",
    "\n",
    "Before returning an acknowledgement back to the client, the replica set waits.\n",
    "\n",
    "When the write has been applied by the nodes marked in stripes, it returns an acknowledgement back to the client.\n",
    "\n",
    "What Write Concern was used in this operation?\n",
    "\n",
    "w: available\n",
    "\n",
    "w: 0\n",
    "\n",
    "w: 1\n",
    "\n",
    "w: majority\n",
    "\n",
    "\n",
    "\n",
    "## Answer:\n",
    "\n",
    "w:majority"
   ]
  }
 ],
 "metadata": {
  "language_info": {
   "name": "python"
  },
  "orig_nbformat": 4
 },
 "nbformat": 4,
 "nbformat_minor": 2
}
