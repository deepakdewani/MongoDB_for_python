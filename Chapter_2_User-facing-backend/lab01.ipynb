{
 "cells": [
  {
   "cell_type": "markdown",
   "metadata": {},
   "source": [
    "# Ticket: Paging\n",
    "\n",
    "## User Story\n",
    "\n",
    "\"As a user, I'd like to get the next page of results for my query by scrolling down in the main window of the application.\"\n",
    "\n",
    "## Task\n",
    "\n",
    "Modify the method get_movies in db.py to allow for paging. You can see how the page is parsed and sent in the api_search_movies method from movies.py.\n",
    "\n",
    "You can find examples of using cursor methods in notebooks/cursor_methods_agg_equivalents.ipynb.\n",
    "\n",
    "## MFlix Functionality\n",
    "\n",
    "The UI is already asking for infinite scroll! You may have noticed a message stating \"paging not implemented\" when scrolling to the bottom of the page.\n",
    "\n",
    "Once this ticket is completed, this message will go away, and scrolling to the bottom of the page will result in a new page of movies.\n",
    "\n",
    "Testing and Running the Application\n",
    "\n",
    "Make sure you look at the tests in test_paging.py to look at what is expected.\n",
    "\n",
    "You can run the unit tests for this ticket by running:\n",
    "\n",
    "                    pytest -m paging\n",
    "\n",
    "\n",
    "Once the unit tests are passing, run the application with:\n",
    "\n",
    "                    python run.py\n",
    "\n",
    "\n",
    "Now proceed to the status page to run the full suite of integration tests and get your validation code.\n",
    "\n",
    "## After passing the relevant tests, what is the validation code for Paging?\n",
    "\n",
    "## Answer:\n",
    "\n",
    "5a9824d057adff467fb1f526"
   ]
  }
 ],
 "metadata": {
  "language_info": {
   "name": "python"
  },
  "orig_nbformat": 4
 },
 "nbformat": 4,
 "nbformat_minor": 2
}
