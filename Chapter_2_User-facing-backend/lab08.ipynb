{
 "cells": [
  {
   "cell_type": "markdown",
   "metadata": {},
   "source": [
    "# Ticket: Delete Comments\n",
    "\n",
    "## User Story\n",
    "\n",
    "\"As a user, I want to be able to delete my own comments.\"\n",
    "\n",
    "## Task\n",
    "\n",
    "For this ticket, you'll be required to modify one method in db.py, delete_comment. Ensure the delete operation is limited so only the user can delete their own comments, but not anyone else's comments.\n",
    "\n",
    "You can find examples of delete_one() in notebooks/deletes.ipynb.\n",
    "\n",
    "## MFlix Functionality\n",
    "\n",
    "Once this ticket is completed, users will be able to delete their own comments, but they won't be able to delete anyone else's comments.\n",
    "\n",
    "Testing and Running the Application\n",
    "\n",
    "You can run all the tests for this ticket by running:\n",
    "\n",
    "pytest -m delete_comments\n",
    "\n",
    "Once the unit tests are passing, run the application with:\n",
    "\n",
    "python run.py\n",
    "\n",
    "Now proceed to the status page to run the full suite of integration tests and get your validation code.\n",
    "\n",
    "## After passing the relevant tests, what is the validation code for Delete Comments?\n",
    "\n",
    "## Answer:\n",
    "\n",
    "5ac25c280a80ed6e67e1cecb"
   ]
  }
 ],
 "metadata": {
  "language_info": {
   "name": "python"
  },
  "orig_nbformat": 4
 },
 "nbformat": 4,
 "nbformat_minor": 2
}
