{
 "cells": [
  {
   "cell_type": "markdown",
   "metadata": {},
   "source": [
    "# Ticket: Durable Writes\n",
    "\n",
    "## Task\n",
    "\n",
    "For this ticket, you'll be required to increase the durability of the add_user method from the default Write Concern of w: 1.\n",
    "\n",
    "When a new user registers for MFlix, their information must be added to the database before they can do anything else on the site. For this reason, we want to make sure that the data written by the add_user method will not be rolled back.\n",
    "\n",
    "We can completely eliminate the chances of a rollback by increasing the write durability of the add_user method. To use a non-default Write Concern with a database operation, use Pymongo's with_options flag when issuing the query.\n",
    "\n",
    "You can find examples of Write Concerns in notebooks/write_concerns.ipynb.\n",
    "\n",
    "Testing and Running the Application\n",
    "\n",
    "There are no unit or integration tests for this lab.\n",
    "\n",
    "Please complete the multiple choice question below, and then implement the correct Write Concern in the add_user method.\n",
    "\n",
    "The implementation of this task will not be tested, but using the default of w: 1 might result in a rollback of your users' account data!\n",
    "\n",
    "## Which of the following Write Concerns is more durable than the default?\n",
    "\n",
    "w: \"majority\"\n",
    "w: 0\n",
    "w: 1\n",
    "w: 2\n",
    "\n",
    "## Answe:\n",
    "\n",
    "w: \"majority\n",
    "w: 2"
   ]
  }
 ],
 "metadata": {
  "language_info": {
   "name": "python"
  },
  "orig_nbformat": 4
 },
 "nbformat": 4,
 "nbformat_minor": 2
}
