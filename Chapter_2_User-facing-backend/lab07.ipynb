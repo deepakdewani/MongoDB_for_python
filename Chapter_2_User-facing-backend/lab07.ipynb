{
 "cells": [
  {
   "cell_type": "markdown",
   "metadata": {},
   "source": [
    "# Ticket: Create/Update Comments\n",
    "## User Story\n",
    "\n",
    "\"As a user, I want to be able to post comments to a movie page as well as edit my own comments.\"\n",
    "\n",
    "## Task\n",
    "\n",
    "For this ticket, you'll be required to implement two methods in db.py, add_comment and update_comment.\n",
    "\n",
    "Ensure that update_comment only allows users to update their own comments, and no one else's comments.\n",
    "\n",
    "## MFlix Functionality\n",
    "\n",
    "Once this ticket is completed, users will be able to post comments on their favorite (and least favorite) movies, and edit comments they've posted.\n",
    "\n",
    "Testing and Running the Application\n",
    "\n",
    "You can run the unit tests for this ticket by running:\n",
    "\n",
    "pytest -m create_update_comments\n",
    "\n",
    "Once the unit tests are passing, run the application with:\n",
    "\n",
    "python run.py\n",
    "\n",
    "Now proceed to the status page to run the full suite of integration tests and get your validation code.\n",
    "\n",
    "## After passing the relevant unit tests, what is the validation code for Create/Update Comments?\n",
    "\n",
    "## Answer:\n",
    "\n",
    "5aba8d5113910c25d7058f8f"
   ]
  }
 ],
 "metadata": {
  "language_info": {
   "name": "python"
  },
  "orig_nbformat": 4
 },
 "nbformat": 4,
 "nbformat_minor": 2
}
