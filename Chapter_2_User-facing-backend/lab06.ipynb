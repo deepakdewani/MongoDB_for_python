{
 "cells": [
  {
   "cell_type": "markdown",
   "metadata": {},
   "source": [
    "# Ticket: Get Comments\n",
    "\n",
    "## User Story\n",
    "\n",
    "\"As a user, I want to be able to view comments for a movie when I look at the movie detail page.\"\n",
    "\n",
    "## Task\n",
    "\n",
    "For this ticket, you'll be required to extend the get_movie method in db.py so that it also fetches the comments for a given movie. The comments should be returned in order from most recent to least recent using the date key.\n",
    "\n",
    "Movie comments are stored in the comments collection, so this task can be accomplished by performing a $lookup. Refer to the Aggregation Quick Reference for the specific syntax.\n",
    "\n",
    "You can find examples of Aggregation with the Python driver in notebooks/basic_aggregation.ipynb.\n",
    "\n",
    "## MFlix Functionality\n",
    "\n",
    "Once this ticket is completed, each movie's comments will be displayed on that movie's detail page.\n",
    "\n",
    "Testing and Running the Application\n",
    "\n",
    "You can run the unit tests for this ticket by running:\n",
    "\n",
    "pytest -m get_comments\n",
    "\n",
    "Once the unit tests are passing, run the application with:\n",
    "\n",
    "python run.py\n",
    "\n",
    "Now proceed to the status page to run the full suite of integration tests and get your validation code.\n",
    "\n",
    "## After passing the relevant tests, what is the validation code for Get Comments?\n",
    "\n",
    "## Answer:\n",
    "\n",
    "5ab5094fb526e43b570e4633"
   ]
  }
 ],
 "metadata": {
  "language_info": {
   "name": "python"
  },
  "orig_nbformat": 4
 },
 "nbformat": 4,
 "nbformat_minor": 2
}
