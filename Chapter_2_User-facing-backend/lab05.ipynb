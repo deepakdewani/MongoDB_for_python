{
 "cells": [
  {
   "cell_type": "markdown",
   "metadata": {},
   "source": [
    "# Ticket: User Preferences\n",
    "\n",
    "## User Story\n",
    "\n",
    "\"As a user, I want to be able to store preferences such as my favorite cast member and preferred language.\"\n",
    "\n",
    "## Task\n",
    "\n",
    "For this Ticket, you'll be required to implement one method in db.py, update_prefs. This method allows updates to be made to the \"preferences\" field in the users collection.\n",
    "\n",
    "## MFlix Functionality\n",
    "\n",
    "Once this ticket is completed, users will be able to save preferences in their account information.\n",
    "\n",
    "Testing and Running the Application\n",
    "\n",
    "You can run the unit tests for this ticket by running:\n",
    "\n",
    "pytest -m user_preferences\n",
    "\n",
    "Once the unit tests are passing, run the application with:\n",
    "\n",
    "python run.py\n",
    "\n",
    "Now proceed to the status page to run the full suite of integration tests and get your validation code.\n",
    "\n",
    "## After passing the relevant tests, what is the validation code for User Preferences?\n",
    "\n",
    "## Answer:\n",
    "\n",
    "5aabe31503ac76bc4f73e267"
   ]
  }
 ],
 "metadata": {
  "language_info": {
   "name": "python"
  },
  "orig_nbformat": 4
 },
 "nbformat": 4,
 "nbformat_minor": 2
}
