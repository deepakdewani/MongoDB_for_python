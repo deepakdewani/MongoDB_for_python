{
 "cells": [
  {
   "cell_type": "markdown",
   "metadata": {},
   "source": [
    "# Ticket: Faceted Search\n",
    "\n",
    "## User Story\n",
    "\n",
    "\"As a user, I want to be able to filter cast search results by one facet, metacritic rating.\"\n",
    "\n",
    "## Task\n",
    "\n",
    "For this Ticket, you'll be required to implement one method in db.py, get_movies_faceted, so the MFlix application can perform faceted searches.\n",
    "\n",
    "## MFlix Functionality\n",
    "\n",
    "What is a Faceted Search?\n",
    "\n",
    "Faceted search is a way of narrowing down search results as search parameters are added. For example, let's say MFlix allows users to filter movies by a rating from 1 to 10, but Kate Winslet has only acted in movies that have a rating of 6 or higher.\n",
    "\n",
    "If we didn't specify any other search parameters, MFlix would allow us to choose a rating between 1 and 10. But if we first search for Kate Winslet, the application would only let us choose a rating between 6 and 10, because none of the movie documents in the result set have a rating below 6.\n",
    "\n",
    "If you're curious, you can read more about Faceted Search here.\n",
    "\n",
    "Faceted Search in MFlix\n",
    "\n",
    "Faceted searches on the MFlix site cannot be supported with the basic search method get_movies, because that method uses the Mongo query language. For faceted searches, the application must use the Aggregation Framework.\n",
    "\n",
    "The method get_movies_faceted uses the Aggregation Framework, and the individual stages in the pipeline have already been completed. Follow instructions in the db.py file to append the required stages to the pipeline object. ** Testing and Running the Application**\n",
    "\n",
    "Look in the test_facets.py file in your tests directory to view the unit tests for this ticket.\n",
    "\n",
    "You can run the unit tests for this ticket by running:\n",
    "\n",
    "pytest -m facets\n",
    "\n",
    "Once the unit tests are passing, run the application with:\n",
    "\n",
    "python run.py\n",
    "\n",
    "Now proceed to the status page to run the full suite of integration tests and get your validation code.\n",
    "\n",
    "## After passing the relevant tests, what is the validation code for Faceted Search?\n",
    "\n",
    "## Answer:\n",
    "\n",
    "5aa7d3948adcc3fb770f06fb"
   ]
  }
 ],
 "metadata": {
  "language_info": {
   "name": "python"
  },
  "orig_nbformat": 4
 },
 "nbformat": 4,
 "nbformat_minor": 2
}
