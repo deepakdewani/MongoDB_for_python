{
 "cells": [
  {
   "cell_type": "markdown",
   "metadata": {},
   "source": [
    "# Ticket: User Management\n",
    "\n",
    "## User Story\n",
    "\n",
    "\"As a user, I should be able to register for an account, log in, and logout.\"\n",
    "\n",
    "## Task\n",
    "\n",
    "For this Ticket, you'll be required to implement all the methods in db.py that are called by the API endpoints in user.py. Specifically, you'll implement:\n",
    "\n",
    "get_user\n",
    "add_user\n",
    "login_user\n",
    "logout_user\n",
    "get_user_session\n",
    "delete_user\n",
    "For this ticket, you will need to use the find_one(), update_one() and delete_one() methods. You can find examples in the following notebooks:\n",
    "\n",
    "notebooks/deletes.ipynb\n",
    "notebooks/your_first_write.ipynb\n",
    "MFlix Functionality\n",
    "\n",
    "Once this ticket is completed, users will be able to register for a new account, log in, logout, and delete their account.\n",
    "\n",
    "Registering should create an account and log the user in, ensuring an entry is made in the sessions collection. There is a unique index on the user_id field in sessions, so we can efficiently query on this field.\n",
    "\n",
    "Testing and Running the Application\n",
    "\n",
    "Look within the test_user_management.py file in your tests directory to view the unit tests for this ticket.\n",
    "\n",
    "You can run the unit tests for this ticket by running:\n",
    "\n",
    "pytest -m user_management\n",
    "\n",
    "Once the unit tests are passing, run the application with:\n",
    "\n",
    "python run.py\n",
    "\n",
    "Now proceed to the status page to run the full suite of integration tests and get your validation code.\n",
    "\n",
    "## After passing the relevant tests, what is the validation code for User Management?\n",
    "\n",
    "## Answer:\n",
    "\n",
    "5a8d8ee2f9588ca2701894be"
   ]
  }
 ],
 "metadata": {
  "language_info": {
   "name": "python"
  },
  "orig_nbformat": 4
 },
 "nbformat": 4,
 "nbformat_minor": 2
}
