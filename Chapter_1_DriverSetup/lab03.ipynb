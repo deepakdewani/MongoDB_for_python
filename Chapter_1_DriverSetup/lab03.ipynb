{
 "cells": [
  {
   "cell_type": "markdown",
   "metadata": {},
   "source": [
    "# Ticket: Text and Subfield Search\n",
    "\n",
    "## User Story\n",
    "\n",
    "\"As a user, I'd like to be able to search movies by cast members, genre, or perform a text search of the plot summary, full plot, and title.\"\n",
    "\n",
    "## Task\n",
    "\n",
    "For this ticket, you will need to modify the method build_query_sort_project in db.py to allow the following movie search criteria:\n",
    "\n",
    "genres: finds all movies that match the search genres Already, the build_query_sort_project method is able to return results for two different types of movie search criteria:\n",
    "\n",
    "text: performs a text search in the movies collection\n",
    "cast: finds movies that include any of the wanted cast\n",
    "You just need to construct the query that queries the movies collection by the genres field.\n",
    "\n",
    "## Hint\n",
    "\n",
    "Check the implementation of similar formats of search criteria - the genres query should be similar. \n",
    "\n",
    "## MFlix Functionality\n",
    "\n",
    "Once you complete this ticket, the UI will allow movie searches by members of the cast, movie genres, movie title, and plot summary.\n",
    "\n",
    "A text index was created for you when you restored the collections with mongorestore, so these queries will be performant once they are implemented.\n",
    "\n",
    "Testing and Running the Application\n",
    "\n",
    "Make sure to look at the tests in test_text_and_subfield_search.py to understand what is expected.\n",
    "\n",
    "You can run the unit tests for this ticket with:\n",
    "\n",
    "                pytest -m text_and_subfield_search\n",
    "\n",
    "\n",
    "Once the unit tests are passing, run the application with:\n",
    "\n",
    "                python run.py\n",
    "\n",
    "\n",
    "Now proceed to the status page to run the full suite of integration tests and get your validation code.\n",
    "\n",
    "## After passing the relevant tests, what is the validation code for Text and Subfield Search?\n",
    "\n",
    "## Answer:\n",
    "\n",
    "5a96a6a29c453a40d04922cc"
   ]
  }
 ],
 "metadata": {
  "language_info": {
   "name": "python"
  },
  "orig_nbformat": 4
 },
 "nbformat": 4,
 "nbformat_minor": 2
}
