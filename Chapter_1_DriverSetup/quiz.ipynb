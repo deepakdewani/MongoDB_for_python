{
 "cells": [
  {
   "cell_type": "markdown",
   "metadata": {},
   "source": [
    "## Basic Reads\n",
    "\n",
    "What do the methods find() and find_one() have in common?\n",
    "\n",
    "They return a cursor.\n",
    "They are used to query documents in a collection.\n",
    "They accept a query predicate.\n",
    "They accept a field projection.\n",
    "\n",
    "\n",
    "## Answer:\n",
    "They are used to query documents in a collection.\n",
    "They accept a query predicate.\n",
    "They accept a field projection.\n",
    "\n"
   ]
  }
 ],
 "metadata": {
  "language_info": {
   "name": "python"
  },
  "orig_nbformat": 4
 },
 "nbformat": 4,
 "nbformat_minor": 2
}
