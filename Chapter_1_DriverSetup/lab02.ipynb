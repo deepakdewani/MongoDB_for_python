{
 "cells": [
  {
   "cell_type": "markdown",
   "metadata": {},
   "source": [
    "   \n",
    "# Ticket: Projection\n",
    "\n",
    "## User Story\n",
    "\n",
    "\"As a user, I'd like to be able to search movies by country and see a list of movie titles. I should be able to specify a comma-separated list of countries to search multiple countries.\"\n",
    "\n",
    "## Task\n",
    "\n",
    "Implement the get_movies_by_country method in db.py to search movies by country and use projection to return the title field.\n",
    "\n",
    "You can find examples in notebooks/your_first_read.ipynb.\n",
    "\n",
    "## MFlix Functionality\n",
    "\n",
    "Once you complete this ticket, the UI will allow movie searches by one or more countries.\n",
    "\n",
    "Testing and Running the Application\n",
    "\n",
    "Make sure to look at the tests in test_projection.py to understand what is expected.\n",
    "\n",
    "You can run the unit tests for this ticket by running:\n",
    "\n",
    "            pytest -m projection\n",
    "\n",
    "\n",
    "Once the unit tests are passing, run the application with:\n",
    "\n",
    "            python run.py\n",
    "\n",
    "Now proceed to the status page to run the full suite of integration tests and get your validation code.\n",
    "\n",
    "## After passing the relevant unit tests, what is the validation code for Projection?\n",
    "\n",
    "## Answer:\n",
    "\n",
    "5a94762f949291c47fa6474d"
   ]
  }
 ],
 "metadata": {
  "language_info": {
   "name": "python"
  },
  "orig_nbformat": 4
 },
 "nbformat": 4,
 "nbformat_minor": 2
}
