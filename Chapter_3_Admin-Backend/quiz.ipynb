{
 "cells": [
  {
   "cell_type": "markdown",
   "metadata": {},
   "source": [
    "# Quiz\n",
    "\n",
    "## Read Concerns\n",
    "\n",
    "Which of the following Read Concerns are valid in a 3-node replica set?\n",
    "\n",
    "\"local\"\n",
    "1\n",
    "\"majority\"\n",
    "0\n",
    "\"nearest\"\n",
    "\n",
    "## Answer:\n",
    "\"local\"\n",
    "\"majority\"\n",
    "\n",
    "\n",
    "## Bulk Writes\n",
    "\n",
    "Which of the following is true about bulk writes?\n",
    "\n",
    "If a failure occurs during an ordered bulk write, the server will continue executing the rest of the batch.\n",
    "Bulk writes decrease the effect of latency on overall operation time.\n",
    "By default, bulk writes are ordered.\n",
    "The server will send one acknowledgement for each write in a bulk operation.\n",
    "\n",
    "## Answer:\n",
    "\n",
    "Bulk writes decrease the effect of latency on overall operation time.\n",
    "By default, bulk writes are ordered."
   ]
  }
 ],
 "metadata": {
  "language_info": {
   "name": "python"
  },
  "orig_nbformat": 4
 },
 "nbformat": 4,
 "nbformat_minor": 2
}
