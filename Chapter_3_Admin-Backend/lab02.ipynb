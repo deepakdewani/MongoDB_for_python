{
 "cells": [
  {
   "cell_type": "markdown",
   "metadata": {},
   "source": [
    "# Ticket: Migration\n",
    "## Task\n",
    "\n",
    "For this ticket, you'll be required to complete the command-line script located in the migrations directory of mflix called movie_last_updated_migration.py.\n",
    "\n",
    "Things always change, and a requirement has come down that the lastupdated value in each document of the movies collection needs to be stored as an ISODate rather than a String.\n",
    "\n",
    "Complete the script so it updates the values using the bulk API.\n",
    "\n",
    "To perform the migration, run the script:\n",
    "\n",
    "python movie_last_updated_migration.py\n",
    "\n",
    "You can find examples of Bulk Operations in notebooks/bulk_writes.ipynb.\n",
    "\n",
    "Testing and Running the Application\n",
    "\n",
    "You can run the unit tests for this ticket by running:\n",
    "\n",
    "pytest -m migration\n",
    "\n",
    "Once the unit tests are passing, run the application with:\n",
    "\n",
    "python run.py\n",
    "\n",
    "Now proceed to the status page to run the full suite of integration tests and get your validation code.\n",
    "\n",
    "## After passing the relevant tests, what is the validation code for Migration?\n",
    "\n",
    "## Answer:\n",
    "\n",
    "5ad9f6a64fec134d116fb06f"
   ]
  }
 ],
 "metadata": {
  "language_info": {
   "name": "python"
  },
  "orig_nbformat": 4
 },
 "nbformat": 4,
 "nbformat_minor": 2
}
