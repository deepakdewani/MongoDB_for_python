{
 "cells": [
  {
   "cell_type": "markdown",
   "metadata": {},
   "source": [
    "# Quiz\n",
    "\n",
    "## Connection Pooling\n",
    "\n",
    "Which of the following are benefits of connection pooling?\n",
    "\n",
    "The connection pool will persist after the client is terminated.\n",
    "New operations can be serviced with pre-existing connections, so a new connection doesn't have to be created each time.\n",
    "A large influx of operations can be handled more quickly with a pool of existing connections.\n",
    "Multiple database clients can share a connection pool.\n",
    "\n",
    "## Answer\n",
    "New operations can be serviced with pre-existing connections, so a new connection doesn't have to be created each time.\n",
    "A large influx of operations can be handled more quickly with a pool of existing connections.\n",
    "\n",
    "\n",
    "## Robust Client Configuration\n",
    "\n",
    "When should you set a wtimeout?\n",
    "\n",
    "When our application is using a connection pool of 100 or more connections.\n",
    "When our application is using a Write Concern more durable than w: 1.\n",
    "When our application is issuing bulk operations in large batches.\n",
    "When our application is using a Read Concern more durable than \"available\".\n",
    "\n",
    "## Answer:\n",
    "When our application is using a Write Concern more durable than w: 1.\n",
    "\n",
    "\n",
    "## Change Streams\n",
    "\n",
    "What of the following is true about Change Streams in Pymongo?\n",
    "\n",
    "They output cursors, which contain change event documents.\n",
    "They can stay open for up to 10 minutes.\n",
    "They can be used to log changes to a MongoDB collection.\n",
    "They will not log changes associated with insert operations.\n",
    "They accept pipelines, which can be used to filter output from the change stream.\n",
    "\n",
    "## Answer:\n",
    "They output cursors, which contain change event documents.\n",
    "They can be used to log changes to a MongoDB collection.\n",
    "They accept pipelines, which can be used to filter output from the change stream."
   ]
  }
 ],
 "metadata": {
  "language_info": {
   "name": "python"
  },
  "orig_nbformat": 4
 },
 "nbformat": 4,
 "nbformat_minor": 2
}
