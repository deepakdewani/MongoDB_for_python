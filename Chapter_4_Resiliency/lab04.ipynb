{
 "cells": [
  {
   "cell_type": "markdown",
   "metadata": {},
   "source": [
    "# Ticket: Principle of Least Privilege\n",
    "\n",
    "## Task\n",
    "\n",
    "For this ticket, you'll be required to add a new user on your Atlas cluster for the MFlix application to connect with.\n",
    "\n",
    "The user should follow credentials:\n",
    "\n",
    "username: mflixAppUser\n",
    "password: mflixAppPwd\n",
    "\n",
    "This user should have the readWrite role on the sample_mflix database. Use Add Default Privileges to assign the user this specific role.\n",
    "\n",
    "After you have created this user, modify the SRV connection string in your configuration file so the application connects with the new username and password.\n",
    "\n",
    "Testing and Running the Application\n",
    "\n",
    "There are no unit tests associated with this ticket.\n",
    "\n",
    "Once you have modified the connection string, stop and restart the application.\n",
    "\n",
    "Now proceed to the status page to run the full suite of integration tests and get your validation code.\n",
    "\n",
    "## What is the validation code for Principle of Least Privilege?\n",
    "\n",
    "## Answer:\n",
    "\n",
    "5b61be29094dbae03bf30616"
   ]
  }
 ],
 "metadata": {
  "language_info": {
   "name": "python"
  },
  "orig_nbformat": 4
 },
 "nbformat": 4,
 "nbformat_minor": 2
}
