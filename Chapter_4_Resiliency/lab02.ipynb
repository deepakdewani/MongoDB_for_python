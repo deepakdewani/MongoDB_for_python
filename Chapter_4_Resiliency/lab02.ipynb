{
 "cells": [
  {
   "cell_type": "markdown",
   "metadata": {},
   "source": [
    "# Ticket: Timeouts\n",
    "\n",
    "## Task\n",
    "\n",
    "For this ticket, you'll be required to modify the connection information for MongoClient to set a write timeout of 2500 milliseconds.\n",
    "\n",
    "The MongoClient in db.py is initialized in the get_db method. A link to the relevant documentation is included here for your reference.\n",
    "\n",
    "You can learn more about timeouts in notebooks/robust_applications.ipynb.\n",
    "\n",
    "Testing and Running the Application\n",
    "\n",
    "You can run the unit tests for this ticket by running:\n",
    "\n",
    "pytest -m timeouts\n",
    "\n",
    "Once the unit tests are passing, run the application with:\n",
    "\n",
    "python run.py\n",
    "\n",
    "Now proceed to the status page to run the full suite of integration tests and get your validation code.\n",
    "\n",
    "## After passing the relevant tests, what is the validation code for Timeouts?\n",
    "\n",
    "## Answer:\n",
    "\n",
    "5addf035498efdeb55e90b01"
   ]
  }
 ],
 "metadata": {
  "language_info": {
   "name": "python"
  },
  "orig_nbformat": 4
 },
 "nbformat": 4,
 "nbformat_minor": 2
}
