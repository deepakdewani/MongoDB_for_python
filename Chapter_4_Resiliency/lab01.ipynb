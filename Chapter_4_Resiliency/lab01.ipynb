{
 "cells": [
  {
   "cell_type": "markdown",
   "metadata": {},
   "source": [
    "# Ticket: Connection Pooling\n",
    "\n",
    "## Task\n",
    "\n",
    "For this ticket, you'll be required to modify the configuration of MongoClient to set the maximum size of the connection pool to 50 connections.\n",
    "\n",
    "The MongoClient in db.py is initialized in the get_db method. A link to the MongoClient documentation is included here for your reference.\n",
    "\n",
    "You can learn more about Connection Pooling in notebooks/connection_pooling.ipynb.\n",
    "\n",
    "Testing and Running the Application\n",
    "\n",
    "You can run the unit tests for this ticket by running:\n",
    "\n",
    "pytest -m connection_pooling\n",
    "\n",
    "Once the unit tests are passing, run the application with:\n",
    "\n",
    "python run.py\n",
    "\n",
    "Now proceed to the status page to run the full suite of integration tests and get your validation code.\n",
    "\n",
    "## After passing the relevant tests, what is the validation code for Connection Pooling?\n",
    "\n",
    "## Answer:\n",
    "\n",
    "5ad4f4f58d4b377bcf55d742"
   ]
  }
 ],
 "metadata": {
  "language_info": {
   "name": "python"
  },
  "orig_nbformat": 4
 },
 "nbformat": 4,
 "nbformat_minor": 2
}
