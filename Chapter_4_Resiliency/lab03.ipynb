{
 "cells": [
  {
   "cell_type": "markdown",
   "metadata": {},
   "source": [
    "# Ticket: Handling Errors\n",
    "\n",
    "## Task\n",
    "\n",
    "For this ticket, you'll be required to make the API more robust by handling exceptions. Specifically, what would happen should an incorrectly formatted _id be passed to get_movie in db.py?\n",
    "\n",
    "To determine the exact exception that will be thrown in this case, please consult the documentation to see which exceptions pymongo and bson can raise:\n",
    "\n",
    "pymongo exceptions\n",
    "bson exceptions\n",
    "\n",
    "Once you've determined the exception you need to handle, make sure to catch it in the get_movie method.\n",
    "\n",
    "Although this ticket will only test that you've handled exceptions for the get_movie method, it's also a good idea to look over the entirety of db.py to look for other potential exceptions and handle them!\n",
    "\n",
    "You can find examples of Error Handling in notebooks/error_handling.ipynb.\n",
    "\n",
    "Testing and Running the Application\n",
    "\n",
    "You can run the unit tests for this ticket by running:\n",
    "\n",
    "pytest -m error_handling\n",
    "\n",
    "Once the unit tests are passing, run the application with:\n",
    "\n",
    "python run.py\n",
    "\n",
    "Now proceed to the status page to run the full suite of integration tests and get your validation code.\n",
    "\n",
    "## After passing the relevant unit tests, what is the validation code for Error Handling?\n",
    "\n",
    "## Answer:\n",
    "\n",
    "5ae9b76a703c7c603202ef22"
   ]
  }
 ],
 "metadata": {
  "language_info": {
   "name": "python"
  },
  "orig_nbformat": 4
 },
 "nbformat": 4,
 "nbformat_minor": 2
}
